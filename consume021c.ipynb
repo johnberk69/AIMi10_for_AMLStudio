{
  "cells": [
    {
      "cell_type": "code",
      "source": [
        "# store snippets of code here that are not standardly provided inside Endpoint's sample consume code.... \n",
        "# from some images in the client's Azure Storage Account - already existing, so used it...\n",
        "\n",
        "image_url = \"https://tcaibushnellsa01.blob.core.windows.net/testimagesfromurl/SSWI000000007024520B.jpg\" # this is an ElkBullNight\n",
        "\n",
        "urlData = {\n",
        "    \"image_url\": image_url\n",
        "}\n",
        "\n",
        "body = str.encode(json.dumps(urlData))\n",
        "\n",
        "# from .ONNX model folder's labels.txt file.. can look up what index [12] is...abs\n",
        "\n"
      ],
      "outputs": [],
      "execution_count": null,
      "metadata": {
        "editable": true,
        "jupyter": {
          "outputs_hidden": false,
          "source_hidden": false
        },
        "nteract": {
          "transient": {
            "deleting": false
          }
        },
        "run_control": {
          "frozen": false
        }
      }
    },
    {
      "cell_type": "markdown",
      "source": [
        "**#John- it would be a good idea to pass in Probability Threshold in as a header key:value pair... so at run time the app developer can alter this...  **\n"
      ],
      "metadata": {
        "nteract": {
          "transient": {
            "deleting": false
          }
        }
      }
    },
    {
      "cell_type": "code",
      "source": [
        "#------------------------------------------------------------------------------------------------------------------------------\n",
        "# 01/30/2024 the following two cells are a one-request test and a looping-request test \n",
        "# they have both been updated to work with the ready-for-Production 16x D2a_v4 Endpoint hosting the AIMi10 model...\n",
        "# this has been tested by both John Berk code (here), and by Jordan's load tests during last week of Jan 2024\n",
        "# NOTE _ ALL cells referencing OLDER tests and EARLIER Endpoints have been removed for clarity!!!\n",
        "# if NEW Endpoints need to be tested, duplicate the cells below, and update the Endpoint URL, API Key, and Headers line(s)\n",
        "#------------------------------------------------------------------------------------------------------------------------------"
      ],
      "outputs": [],
      "execution_count": null,
      "metadata": {
        "jupyter": {
          "source_hidden": false,
          "outputs_hidden": false
        },
        "nteract": {
          "transient": {
            "deleting": false
          }
        }
      }
    },
    {
      "cell_type": "code",
      "source": [
        "# revalidated on 01/30/2024 against Endpoint 021ct using 16x D2a_v4 SKUs   \n",
        "# 12/17/2023 this was fetched from Endpoint and added as a cell in local consume021c.ipynb so that the above code remains intact...\n",
        "# 12/18/2023 JohnB dusted this off and left THIS note to make sure users recognized THIS code works w 021ct, and that you need to \n",
        "# remember to include the final TRY block to strip off the excess non-JSON-dictionary characters!!!!!!\n",
        "# THIS CELL IS ONLY FOR 021ct an Endpoint with a 40X D2a_v4 SKUs!!!!!!\n",
        "\n",
        "import urllib.request\n",
        "import json\n",
        "import os\n",
        "import ssl\n",
        "\n",
        "def allowSelfSignedHttps(allowed):\n",
        "    # bypass the server certificate verification on client side\n",
        "    if allowed and not os.environ.get('PYTHONHTTPSVERIFY', '') and getattr(ssl, '_create_unverified_context', None):\n",
        "        ssl._create_default_https_context = ssl._create_unverified_context\n",
        "\n",
        "allowSelfSignedHttps(True) # this line is needed if you use self-signed certificate in your scoring service.\n",
        "\n",
        "# Request data goes here\n",
        "# The example below assumes JSON formatting which may be updated\n",
        "# depending on the format your endpoint expects.\n",
        "# More information can be found here:\n",
        "# https://docs.microsoft.com/azure/machine-learning/how-to-deploy-advanced-entry-script\n",
        "\n",
        "# image_url = \"https://tcaibushnellsa01.blob.core.windows.net/testimagesfromurl/00BearDay.jpg\"  #\n",
        "# image_url = \"https://tcaibushnellsa01.blob.core.windows.net/testimagesfromurl/01BearNight.jpg\"  #\n",
        "image_url = \"https://tcaibushnellsa01.blob.core.windows.net/testimagesfromurl/02CougarDay.jpg\"  #\n",
        "# image_url = \"https://tcaibushnellsa01.blob.core.windows.net/testimagesfromurl/03CougarNight.jpg\"  #\n",
        "# image_url = \"https://tcaibushnellsa01.blob.core.windows.net/testimagesfromurl/05CoyoteNight.jpg\"  #\n",
        "# image_url = \"https://tcaibushnellsa01.blob.core.windows.net/testimagesfromurl/07DeerBuckDay.jpg\"  #\n",
        "# image_url = \"https://tcaibushnellsa01.blob.core.windows.net/testimagesfromurl/08DeerBuckNight.jpg\"  #\n",
        "# image_url = \"https://tcaibushnellsa01.blob.core.windows.net/testimagesfromurl/09DeerDoeDay.jpg\"  #\n",
        "# image_url = \"https://tcaibushnellsa01.blob.core.windows.net/testimagesfromurl/10DeerDoeNight.jpg\"  #\n",
        "# image_url = \"https://tcaibushnellsa01.blob.core.windows.net/testimagesfromurl/11ELkBullDay.jpg\"  #\n",
        "# image_url = \"https://tcaibushnellsa01.blob.core.windows.net/testimagesfromurl/12ElkBullNight.jpg\"  #\n",
        "# image_url = \"https://tcaibushnellsa01.blob.core.windows.net/testimagesfromurl/13ElkCowDay.jpg\"  #\n",
        "# image_url = \"https://tcaibushnellsa01.blob.core.windows.net/testimagesfromurl/14ElkCowNight.jpg\"  #\n",
        "# image_url = \"https://tcaibushnellsa01.blob.core.windows.net/testimagesfromurl/15HumanDay.jpg\"  #\n",
        "# image_url = \"https://tcaibushnellsa01.blob.core.windows.net/testimagesfromurl/16HumanNight.jpg\"  #\n",
        "# image_url = \"https://tcaibushnellsa01.blob.core.windows.net/testimagesfromurl/17MooseBullDay.jpg\"  #\n",
        "# image_url = \"https://tcaibushnellsa01.blob.core.windows.net/testimagesfromurl/18MooseBullNight.jpg\"  #\n",
        "# image_url = \"https://tcaibushnellsa01.blob.core.windows.net/testimagesfromurl/19MooseCowDay.jpg\"  #\n",
        "# image_url = \"https://tcaibushnellsa01.blob.core.windows.net/testimagesfromurl/21SwineDay.jpg\"  #\n",
        "# image_url = \"https://tcaibushnellsa01.blob.core.windows.net/testimagesfromurl/22SwineNight.jpg\"  #\n",
        "# image_url = \"https://tcaibushnellsa01.blob.core.windows.net/testimagesfromurl/23TurkeyDay.jpg\"  #\n",
        "# image_url = \"https://tcaibushnellsa01.blob.core.windows.net/testimagesfromurl/25VehicleDay.jpg\"  #\n",
        "# image_url = \"https://tcaibushnellsa01.blob.core.windows.net/testimagesfromurl/26VehicleNight.jpg\"  #\n",
        "# image_url = \"https://tcaibushnellsa01.blob.core.windows.net/testimagesfromurl/28WolfNight.jpg\"  #\n",
        "# image_url = \"https://tcaibushnellsa01.blob.core.windows.net/testimagesfromurl/16HumanNight 26VehicleNight.jpg\"  #\n",
        "# image_url = \"https://tcaibushnellsa01.blob.core.windows.net/testimagesfromurl/25VehicleDay 15HumanDay.jpg\"  #\n",
        "\n",
        "urlData = {\n",
        "    \"image_url\": image_url\n",
        "}\n",
        "\n",
        "body = str.encode(json.dumps(urlData))\n",
        "\n",
        "url = 'https://tcai-aml-aivision-01-021ct.southcentralus.inference.ml.azure.com/score'\n",
        "# Replace this with the primary/secondary key or AMLToken for the endpoint\n",
        "api_key = 'rnAJ9b1eoap8xc3D6ofrOKxrYog9Zxga'\n",
        "if not api_key:\n",
        "    raise Exception(\"A key should be provided to invoke the endpoint\")\n",
        "\n",
        "# The azureml-model-deployment header will force the request to go to a specific deployment.\n",
        "# Remove this header to have the request observe the endpoint traffic rules\n",
        "headers = {'Content-Type':'application/json', 'Authorization':('Bearer '+ api_key), 'azureml-model-deployment': 'tcai-aim-i10-gencompacts1-onn-1' }\n",
        "\n",
        "req = urllib.request.Request(url, body, headers)\n",
        "\n",
        "try:\n",
        "    # oem ----------------------------------\n",
        "    # response = urllib.request.urlopen(req)\n",
        "    # result = response.read()\n",
        "    # print(result)\n",
        "    # oem -----------------------------------\n",
        "\n",
        "    # jb working ----------------------------------\n",
        "    response = urllib.request.urlopen(req)\n",
        "    print(\"response is type: \", type(response))\n",
        "\n",
        "    result = response.read()\n",
        "    print(\"result is type: \", type(result))\n",
        "\n",
        "    dictResult = json.loads(json.loads(result)) # yes, this needed to be nested twice...\n",
        "    print(\"dictResult is type: \", type(dictResult))\n",
        "    print(\"dictResult = \", dictResult)\n",
        "    # jb working -----------------------------------\n",
        "    # at this stage, dictResult contained a valid correct json dictionary - ready to go into other code...\n",
        "except urllib.error.HTTPError as error:\n",
        "    print(\"The request failed with status code: \" + str(error.code))\n",
        "\n",
        "    # Print the headers - they include the requert ID and the timestamp, which are useful for debugging the failure\n",
        "    print(error.info())\n",
        "    print(error.read().decode(\"utf8\", 'ignore'))\n"
      ],
      "outputs": [
        {
          "output_type": "stream",
          "name": "stdout",
          "text": "response is type:  <class 'http.client.HTTPResponse'>\nresult is type:  <class 'bytes'>\ndictResult is type:  <class 'dict'>\ndictResult =  {'detected_boxes': [0.4585832953453064, 0.2904353141784668, 0.657193124294281, 0.7319496870040894, 0.45108217000961304, 0.4055059552192688, 0.6361737847328186, 0.9084188342094421, 0.3809918165206909, 0.4207918047904968, 0.526504635810852, 0.8010275959968567, 0.1990230679512024, 0.7876884937286377, 0.26441773772239685, 0.9518817663192749, -0.04897849261760712, 0.7349641919136047, 0.4895329475402832, 1.0336617231369019, 0.08097502589225769, -0.003291010856628418, 0.9880927801132202, 0.3564431369304657, 0.569429337978363, 0.2816244065761566, 0.6874269843101501, 0.6657071113586426, 0.283290296792984, 0.0019110441207885742, 0.874980092048645, 0.9217413067817688, 0.24636930227279663, 0.3531644940376282, 0.46847301721572876, 0.762714684009552, 0.6788837313652039, 0.21566158533096313, 0.8351117968559265, 0.8054572939872742, 0.5723586678504944, 0.3949574828147888, 0.7294895052909851, 0.7919147610664368, 0.6055314540863037, 0.26952195167541504, 1.0772278308868408, 0.7465986013412476, 0.4437525272369385, 0.508246898651123, 1.0187569856643677, 1.0230989456176758, -0.01823548972606659, 0.5253123641014099, 0.44976532459259033, 0.9143351912498474], 'detected_classes': [2, 2, 2, 22, 8, 13, 2, 0, 2, 2, 2, 8, 19, 8], 'detected_scores': [0.9922218322753906, 0.025426656007766724, 0.02362602949142456, 0.01902678608894348, 0.01647326350212097, 0.014182806015014648, 0.01400873064994812, 0.01365053653717041, 0.01242026686668396, 0.011413425207138062, 0.011061370372772217, 0.011005610227584839, 0.010885506868362427, 0.010427027940750122]}\n"
        }
      ],
      "execution_count": 1,
      "metadata": {
        "gather": {
          "logged": 1706632739279
        },
        "jupyter": {
          "outputs_hidden": false,
          "source_hidden": false
        },
        "nteract": {
          "transient": {
            "deleting": false
          }
        }
      }
    },
    {
      "cell_type": "code",
      "source": [
        "# revalidated on 01/30/2024 against Endpoint 021ct using 16x D2a_v4 SKUs   \n",
        "\n",
        "# THIS CELL IS IDENTICAL TO THE CELL ABOVE EXCEPT THAT JOHN WRAPPED A LOOP AROUND IT AS A SIMPLE LOAD TEST\n",
        "# 12/17/2023 this was fetched from Endpoint and added as a cell in local consume021c.ipynb so that the above code remains intact...\n",
        "# 12/18/2023 JohnB dusted this off and left THIS note to make sure users recognized THIS code works w 021ct, and that you need to \n",
        "# remember to include the final TRY block to strip off the excess non-JSON-dictionary characters!!!!!!\n",
        "# THIS CELL IS ONLY FOR 021ct an Endpoint with a 40X D2a_v4 SKUs!!!!!!\n",
        "\n",
        "import urllib.request\n",
        "import json\n",
        "import os\n",
        "import ssl\n",
        "\n",
        "def allowSelfSignedHttps(allowed):\n",
        "    # bypass the server certificate verification on client side\n",
        "    if allowed and not os.environ.get('PYTHONHTTPSVERIFY', '') and getattr(ssl, '_create_unverified_context', None):\n",
        "        ssl._create_default_https_context = ssl._create_unverified_context\n",
        "\n",
        "allowSelfSignedHttps(True) # this line is needed if you use self-signed certificate in your scoring service.\n",
        "\n",
        "# Request data goes here\n",
        "# The example below assumes JSON formatting which may be updated\n",
        "# depending on the format your endpoint expects.\n",
        "# More information can be found here:\n",
        "# https://docs.microsoft.com/azure/machine-learning/how-to-deploy-advanced-entry-script\n",
        "\n",
        "# image_url = \"https://tcaibushnellsa01.blob.core.windows.net/testimagesfromurl/00BearDay.jpg\"  #\n",
        "# image_url = \"https://tcaibushnellsa01.blob.core.windows.net/testimagesfromurl/01BearNight.jpg\"  #\n",
        "# image_url = \"https://tcaibushnellsa01.blob.core.windows.net/testimagesfromurl/02CougarDay.jpg\"  #\n",
        "# image_url = \"https://tcaibushnellsa01.blob.core.windows.net/testimagesfromurl/03CougarNight.jpg\"  #\n",
        "# image_url = \"https://tcaibushnellsa01.blob.core.windows.net/testimagesfromurl/05CoyoteNight.jpg\"  #\n",
        "# image_url = \"https://tcaibushnellsa01.blob.core.windows.net/testimagesfromurl/07DeerBuckDay.jpg\"  #\n",
        "# image_url = \"https://tcaibushnellsa01.blob.core.windows.net/testimagesfromurl/08DeerBuckNight.jpg\"  #\n",
        "# image_url = \"https://tcaibushnellsa01.blob.core.windows.net/testimagesfromurl/09DeerDoeDay.jpg\"  #\n",
        "# image_url = \"https://tcaibushnellsa01.blob.core.windows.net/testimagesfromurl/10DeerDoeNight.jpg\"  #\n",
        "# image_url = \"https://tcaibushnellsa01.blob.core.windows.net/testimagesfromurl/11ELkBullDay.jpg\"  #\n",
        "# image_url = \"https://tcaibushnellsa01.blob.core.windows.net/testimagesfromurl/12ElkBullNight.jpg\"  #\n",
        "# image_url = \"https://tcaibushnellsa01.blob.core.windows.net/testimagesfromurl/13ElkCowDay.jpg\"  #\n",
        "# image_url = \"https://tcaibushnellsa01.blob.core.windows.net/testimagesfromurl/14ElkCowNight.jpg\"  #\n",
        "# image_url = \"https://tcaibushnellsa01.blob.core.windows.net/testimagesfromurl/15HumanDay.jpg\"  #\n",
        "# image_url = \"https://tcaibushnellsa01.blob.core.windows.net/testimagesfromurl/16HumanNight.jpg\"  #\n",
        "# image_url = \"https://tcaibushnellsa01.blob.core.windows.net/testimagesfromurl/17MooseBullDay.jpg\"  #\n",
        "# image_url = \"https://tcaibushnellsa01.blob.core.windows.net/testimagesfromurl/18MooseBullNight.jpg\"  #\n",
        "# image_url = \"https://tcaibushnellsa01.blob.core.windows.net/testimagesfromurl/19MooseCowDay.jpg\"  #\n",
        "# image_url = \"https://tcaibushnellsa01.blob.core.windows.net/testimagesfromurl/21SwineDay.jpg\"  #\n",
        "# image_url = \"https://tcaibushnellsa01.blob.core.windows.net/testimagesfromurl/22SwineNight.jpg\"  #\n",
        "image_url = \"https://tcaibushnellsa01.blob.core.windows.net/testimagesfromurl/23TurkeyDay.jpg\"  #\n",
        "# image_url = \"https://tcaibushnellsa01.blob.core.windows.net/testimagesfromurl/25VehicleDay.jpg\"  #\n",
        "# image_url = \"https://tcaibushnellsa01.blob.core.windows.net/testimagesfromurl/26VehicleNight.jpg\"  #\n",
        "# image_url = \"https://tcaibushnellsa01.blob.core.windows.net/testimagesfromurl/28WolfNight.jpg\"  #\n",
        "# image_url = \"https://tcaibushnellsa01.blob.core.windows.net/testimagesfromurl/16HumanNight 26VehicleNight.jpg\"  #\n",
        "# image_url = \"https://tcaibushnellsa01.blob.core.windows.net/testimagesfromurl/25VehicleDay 15HumanDay.jpg\"  #\n",
        "\n",
        "urlData = {\n",
        "    \"image_url\": image_url\n",
        "}\n",
        "\n",
        "body = str.encode(json.dumps(urlData))\n",
        "\n",
        "url = 'https://tcai-aml-aivision-01-021ct.southcentralus.inference.ml.azure.com/score'\n",
        "\n",
        "\n",
        "# Replace this with the primary/secondary key or AMLToken for the endpoint\n",
        "api_key = 'rnAJ9b1eoap8xc3D6ofrOKxrYog9Zxga'  # current and tested as of 2024Jan30 10AM for Endpoint 021ct\n",
        "\n",
        "if not api_key:\n",
        "    raise Exception(\"A key should be provided to invoke the endpoint\")\n",
        "\n",
        "# The azureml-model-deployment header will force the request to go to a specific deployment.\n",
        "# Remove this header to have the request observe the endpoint traffic rules\n",
        "headers = {'Content-Type':'application/json', 'Authorization':('Bearer '+ api_key), 'azureml-model-deployment': 'tcai-aim-i10-gencompacts1-onn-1' }\n",
        "\n",
        "req = urllib.request.Request(url, body, headers)\n",
        "\n",
        "# -------- everything ABOVE this line is setting up the POST request -------------\n",
        "\n",
        "\n",
        "for i in range(2500):\n",
        "\n",
        "    try:\n",
        "        # jb working ----------------------------------\n",
        "        response = urllib.request.urlopen(req)\n",
        "        print(\"response is type: \", type(response))\n",
        "\n",
        "        result = response.read()\n",
        "        print(\"result is type: \", type(result))\n",
        "\n",
        "        dictResult = json.loads(json.loads(result)) # yes, this needed to be nested twice...\n",
        "        print(\"dictResult is type: \", type(dictResult))\n",
        "        print(\"dictResult = \", dictResult)\n",
        "        # jb working -----------------------------------\n",
        "        # at this stage, dictResult contained a valid correct json dictionary - ready to go into other code...\n",
        "        print(\"iteration i = \", i)\n",
        "    except urllib.error.HTTPError as error:\n",
        "        print(\"The request failed with status code: \" + str(error.code))\n",
        "\n",
        "        # Print the headers - they include the requert ID and the timestamp, which are useful for debugging the failure\n",
        "        print(error.info())\n",
        "        print(error.read().decode(\"utf8\", 'ignore'))\n"
      ],
      "outputs": [],
      "execution_count": null,
      "metadata": {
        "collapsed": true,
        "gather": {
          "logged": 1707258873610
        },
        "jupyter": {
          "outputs_hidden": false,
          "source_hidden": false
        },
        "nteract": {
          "transient": {
            "deleting": false
          }
        }
      }
    },
    {
      "cell_type": "code",
      "source": [],
      "outputs": [],
      "execution_count": null,
      "metadata": {
        "jupyter": {
          "source_hidden": false,
          "outputs_hidden": false
        },
        "nteract": {
          "transient": {
            "deleting": false
          }
        },
        "gather": {
          "logged": 1707325186256
        }
      }
    }
  ],
  "metadata": {
    "kernel_info": {
      "name": "python310-sdkv2"
    },
    "kernelspec": {
      "name": "python310-sdkv2",
      "language": "python",
      "display_name": "Python 3.10 - SDK v2"
    },
    "microsoft": {
      "host": {
        "AzureML": {
          "notebookHasBeenCompleted": true
        }
      },
      "ms_spell_check": {
        "ms_spell_check_language": "en"
      }
    },
    "nteract": {
      "version": "nteract-front-end@1.0.0"
    },
    "language_info": {
      "name": "python",
      "version": "3.10.11",
      "mimetype": "text/x-python",
      "codemirror_mode": {
        "name": "ipython",
        "version": 3
      },
      "pygments_lexer": "ipython3",
      "nbconvert_exporter": "python",
      "file_extension": ".py"
    }
  },
  "nbformat": 4,
  "nbformat_minor": 2
}